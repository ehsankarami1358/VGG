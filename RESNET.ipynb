{
  "nbformat": 4,
  "nbformat_minor": 0,
  "metadata": {
    "colab": {
      "provenance": [],
      "authorship_tag": "ABX9TyOTxvG3W7Qp3YQ2O7saB+E6",
      "include_colab_link": true
    },
    "kernelspec": {
      "name": "python3",
      "display_name": "Python 3"
    },
    "language_info": {
      "name": "python"
    }
  },
  "cells": [
    {
      "cell_type": "markdown",
      "metadata": {
        "id": "view-in-github",
        "colab_type": "text"
      },
      "source": [
        "<a href=\"https://colab.research.google.com/github/ehsankarami1358/VGG/blob/main/RESNET.ipynb\" target=\"_parent\"><img src=\"https://colab.research.google.com/assets/colab-badge.svg\" alt=\"Open In Colab\"/></a>"
      ]
    },
    {
      "cell_type": "code",
      "execution_count": null,
      "metadata": {
        "id": "QE-5Yk4z3cId"
      },
      "outputs": [],
      "source": [
        "from torchvision.models import resnet50,ResNet50_Weights"
      ]
    },
    {
      "cell_type": "code",
      "source": [
        "RN50v1=resnet50(weights=ResNet50_Weights.IMAGENET1K_V1)\n",
        "RN50v2=resnet50(weights=ResNet50_Weights.IMAGENET1K_V2)\n",
        "RN50vd=resnet50(weights=ResNet50_Weights.DEFAULT)\n",
        "RN50None=resnet50(weights=None)"
      ],
      "metadata": {
        "id": "fVCiyGJL4Bj0"
      },
      "execution_count": null,
      "outputs": []
    },
    {
      "cell_type": "code",
      "source": [
        "from torchvision.io import read_image\n",
        "from torchvision.models.quantization import resnet50,ResNet50_QuantizedWeights\n",
        "from torchvision import transforms\n",
        "img=read_image('j1.jpg')\n",
        "weights=ResNet50_QuantizedWeights.DEFAULT\n",
        "model=resnet50(weights=weights,quantize=True)\n",
        "model.eval()\n",
        "preprocess=weights.transforms()\n",
        "batch=preprocess(img).unsqueeze(0)\n",
        "prediction=model(batch).squeeze(0).softmax(0)\n",
        "class_id=prediction.argmax().item()\n",
        "score=prediction[class_id].item()\n",
        "category_name=weights.meta[\"categories\"][class_id]\n",
        "print(f\"{category_name}: {100*score:.1f}%\")"
      ],
      "metadata": {
        "colab": {
          "base_uri": "https://localhost:8080/"
        },
        "id": "G7cwsWPA48U7",
        "outputId": "118c0e3f-c573-44fe-c43a-380996f6df34"
      },
      "execution_count": null,
      "outputs": [
        {
          "output_type": "stream",
          "name": "stdout",
          "text": [
            "jaguar: 39.2%\n"
          ]
        }
      ]
    }
  ]
}